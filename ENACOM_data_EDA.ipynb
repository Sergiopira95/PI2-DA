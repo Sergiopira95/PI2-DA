{
 "cells": [
  {
   "cell_type": "markdown",
   "metadata": {},
   "source": [
    "# <font color='aqua'>**Análisis Exploratorio de Datos (EDA)**\n"
   ]
  },
  {
   "cell_type": "markdown",
   "metadata": {},
   "source": [
    "El Análisis Exploratorio de Datos (EDA) es una etapa crucial en cualquier proyecto de Ciencia de Datos y Machine Learning. Con los datos limpios, es posible investigar las relaciones entre las variables de los datasets. Este análisis incluye la identificación de outliers o anomalías, que no necesariamente son errores, y la búsqueda de patrones interesantes que puedan ser útiles en análisis posteriores.\n",
    "\n",
    "En este proyecto, el EDA permitirá investigar el conjunto de datos provenientes del Ente Nacional de Telecomunicaciones (**ENACOM**) con la finalidad de reconocer el comportamiento de este sector a nivel nacional y así aconsejar a la empresa que ha contratado mis servicios.\n",
    "\n",
    "**El análisis exhaustivo de los datos posibilitará orientar a la empresa en brindar una buena calidad de sus servicios, identificar oportunidades de crecimiento y poder plantear soluciones personalizadas a sus posibles clientes.**"
   ]
  }
 ],
 "metadata": {
  "language_info": {
   "name": "python"
  }
 },
 "nbformat": 4,
 "nbformat_minor": 2
}
